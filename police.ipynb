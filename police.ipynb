{
 "cells": [
  {
   "cell_type": "code",
   "execution_count": 1,
   "metadata": {},
   "outputs": [
    {
     "ename": "ModuleNotFoundError",
     "evalue": "No module named 'elasticsearch'",
     "output_type": "error",
     "traceback": [
      "\u001B[0;31m---------------------------------------------------------------------------\u001B[0m",
      "\u001B[0;31mModuleNotFoundError\u001B[0m                       Traceback (most recent call last)",
      "Input \u001B[0;32mIn [1]\u001B[0m, in \u001B[0;36m<cell line: 1>\u001B[0;34m()\u001B[0m\n\u001B[0;32m----> 1\u001B[0m \u001B[38;5;28;01mfrom\u001B[39;00m \u001B[38;5;21;01melasticsearch\u001B[39;00m \u001B[38;5;28;01mimport\u001B[39;00m Elasticsearch\n\u001B[1;32m      2\u001B[0m \u001B[38;5;28;01mfrom\u001B[39;00m \u001B[38;5;21;01mdeepface\u001B[39;00m \u001B[38;5;28;01mimport\u001B[39;00m DeepFace\n\u001B[1;32m      3\u001B[0m \u001B[38;5;28;01mimport\u001B[39;00m \u001B[38;5;21;01mmatplotlib\u001B[39;00m\u001B[38;5;21;01m.\u001B[39;00m\u001B[38;5;21;01mpyplot\u001B[39;00m \u001B[38;5;28;01mas\u001B[39;00m \u001B[38;5;21;01mplt\u001B[39;00m\n",
      "\u001B[0;31mModuleNotFoundError\u001B[0m: No module named 'elasticsearch'"
     ]
    }
   ],
   "source": [
    "from elasticsearch import Elasticsearch\n",
    "from deepface import DeepFace\n",
    "import matplotlib.pyplot as plt\n",
    "from retinaface import RetinaFace\n",
    "import os\n",
    "import time\n",
    "import glob"
   ]
  },
  {
   "cell_type": "code",
   "execution_count": null,
   "metadata": {},
   "outputs": [],
   "source": [
    "es = Elasticsearch(hosts=['http://localhost:9200'], http_auth=('elastic', 'DkIed99SCb'))"
   ]
  },
  {
   "cell_type": "code",
   "execution_count": null,
   "metadata": {},
   "outputs": [],
   "source": [
    "model_name = 'ArcFace'\n",
    "target_size = (160, 160)\n",
    "embedding_size = 512"
   ]
  },
  {
   "cell_type": "code",
   "execution_count": null,
   "metadata": {},
   "outputs": [],
   "source": [
    "mapping = {\n",
    "    \"mappings\": {\n",
    "        \"properties\": {\n",
    "            \"title_vector\":{\n",
    "                \"type\": \"dense_vector\",\n",
    "                \"dims\": embedding_size\n",
    "            },\n",
    "            \"title_name\": {\"type\": \"keyword\"}\n",
    "        }\n",
    "    }\n",
    "}\n",
    "   \n",
    "es.indices.create(index=\"policedb2\", body=mapping)"
   ]
  },
  {
   "cell_type": "code",
   "execution_count": null,
   "metadata": {},
   "outputs": [],
   "source": [
    "dir_path = \"dataset/police/*.*\"\n",
    "res = glob.glob(dir_path, recursive=True)\n",
    "files = []\n",
    "for item in res:\n",
    "    if item.endswith('.jpg'):\n",
    "        files.append(item)\n",
    "print('total files:', len(files))"
   ]
  },
  {
   "cell_type": "code",
   "execution_count": null,
   "metadata": {},
   "outputs": [],
   "source": [
    "index = 0\n",
    "tic = time.time()\n",
    "\n",
    "for img_path in files:\n",
    "    print('indexing', img_path)\n",
    "    try:\n",
    "        embedding_objs = DeepFace.represent(img_path=img_path, \n",
    "            model_name = model_name,\n",
    "            detector_backend = 'retinaface'\n",
    "        )\n",
    "        embedding = embedding_objs[0][\"embedding\"]\n",
    "        doc = {\"title_vector\": embedding, \"title_name\": img_path}\n",
    "        es.create(\"policedb2\", id=index, body=doc)\n",
    "    except:\n",
    "        pass\n",
    "\n",
    "    index = index + 1\n",
    "toc = time.time()\n",
    "print(\"indexing completed in \",toc-tic,\" seconds\")"
   ]
  },
  {
   "cell_type": "code",
   "execution_count": null,
   "metadata": {},
   "outputs": [],
   "source": [
    "target_img_path = \"dataset/targets/5.jpeg\"\n",
    "embedding_objs = DeepFace.represent(img_path = target_img_path, \n",
    "  model_name = model_name,\n",
    "  detector_backend = 'retinaface'\n",
    ")\n",
    "target_embedding = embedding_objs[0][\"embedding\"]"
   ]
  },
  {
   "cell_type": "code",
   "execution_count": null,
   "metadata": {},
   "outputs": [],
   "source": [
    "query = {\n",
    "    \"size\": 5,\n",
    "    \"query\": {\n",
    "    \"script_score\": {\n",
    "        \"query\": {\n",
    "            \"match_all\": {}\n",
    "        },\n",
    "        \"script\": {\n",
    "            #\"source\": \"cosineSimilarity(params.queryVector, 'title_vector') + 1.0\",\n",
    "            \"source\": \"1 / (1 + l2norm(params.queryVector, 'title_vector'))\", #euclidean distance\n",
    "            \"params\": {\n",
    "                \"queryVector\": list(target_embedding)\n",
    "            }\n",
    "        }\n",
    "    }\n",
    "}}"
   ]
  },
  {
   "cell_type": "code",
   "execution_count": null,
   "metadata": {},
   "outputs": [],
   "source": [
    "tic = time.time()\n",
    "res = es.search(index=\"policedb2\", body=query)\n",
    "toc = time.time()\n",
    "\n",
    "print(toc-tic,\" seconds\")"
   ]
  },
  {
   "cell_type": "code",
   "execution_count": null,
   "metadata": {},
   "outputs": [],
   "source": [
    "target_faces = RetinaFace.extract_faces(img_path = target_img_path, align = True)\n",
    "target_img = target_faces[0]\n",
    "\n",
    "for i in res[\"hits\"][\"hits\"]:\n",
    "    candidate_name = i[\"_source\"][\"title_name\"]\n",
    "    candidate_score = i[\"_score\"]\n",
    "    print(candidate_name, \". Score: \", candidate_score)\n",
    "    candidate_faces = RetinaFace.extract_faces(img_path = candidate_name, align = True)\n",
    "    candidate_img = candidate_faces[0]\n",
    "\n",
    "    fig = plt.figure()\n",
    "\n",
    "    ax1 = fig.add_subplot(1, 2, 1)\n",
    "    plt.imshow(target_img)\n",
    "    plt.axis('off')\n",
    "\n",
    "    ax2 = fig.add_subplot(1, 2, 2)\n",
    "    plt.imshow(candidate_img)\n",
    "    plt.axis('off')\n",
    "\n",
    "    plt.show()\n",
    "\n",
    "    print(\"-------------------------\")"
   ]
  }
 ],
 "metadata": {
  "kernelspec": {
   "display_name": "Python 3",
   "language": "python",
   "name": "python3"
  },
  "language_info": {
   "codemirror_mode": {
    "name": "ipython",
    "version": 3
   },
   "file_extension": ".py",
   "mimetype": "text/x-python",
   "name": "python",
   "nbconvert_exporter": "python",
   "pygments_lexer": "ipython3",
   "version": "3.11.5"
  }
 },
 "nbformat": 4,
 "nbformat_minor": 2
}
